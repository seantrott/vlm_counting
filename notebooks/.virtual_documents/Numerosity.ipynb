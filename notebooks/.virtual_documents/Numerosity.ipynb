


### TO DO
## Create dots of various sizes
## Create systematic grides (e.g., clusters of subitizable dots)
## Create dots of various colors


%matplotlib inline
%config InlineBackend.figure_format = 'retina'  # makes figs nicer!





import matplotlib.pyplot as plt
import numpy as np
import os
import base64

import pandas as pd
import seaborn as sns
import scipy.stats as ss

from tqdm import tqdm
import json


def generate_numerosity_dots(num_dots, area_size=(10, 10), dot_radius=0.1):
    """
    Generates and plots a random arrangement of dots for numerosity discrimination tests.

    Parameters:
    - num_dots: The number of dots to generate.
    - area_size: The size of the area (width, height) within which to generate dots.
    - dot_radius: The radius of each dot.
    """
    def is_valid_position(new_x, new_y, existing_positions, min_distance):
        for (x, y) in existing_positions:
            if np.sqrt((new_x - x)**2 + (new_y - y)**2) < min_distance:
                return False
        return True

    min_distance = 2 * dot_radius
    existing_positions = []

    for _ in range(num_dots):
        while True:
            new_x = np.random.uniform(dot_radius, area_size[0] - dot_radius)
            new_y = np.random.uniform(dot_radius, area_size[1] - dot_radius)
            if is_valid_position(new_x, new_y, existing_positions, min_distance):
                existing_positions.append((new_x, new_y))
                break
    
    # Create a plot
    fig, ax = plt.subplots()
    ax.set_aspect('equal')
    
    # Plot each dot
    for (x, y) in existing_positions:
        circle = plt.Circle((x, y), dot_radius, color='black')
        ax.add_patch(circle)
    
    # Set limits and remove axes
    ax.set_xlim(0, area_size[0])
    ax.set_ylim(0, area_size[1])
    ax.axis('off')

    # Save the plot to a file
    filepath = "Stimuli/{num_dots}_dots.png".format(num_dots = num_dots)
    plt.savefig(filepath, bbox_inches='tight', pad_inches=0)
    plt.close()

    return filepath


from openai import OpenAI


### Generate image
paths = {}
for num_dots in tqdm(range(100)):
    fp = generate_numerosity_dots(num_dots)
    paths[num_dots] = fp


with open("paths.json", "w") as f:
    json.dump(paths, f)





client = OpenAI()


with open("paths.json", "r") as f:
    paths = json.load(f)


# Function to encode the image
def encode_image(image_path):
    with open(image_path, "rb") as image_file:
        return base64.b64encode(image_file.read()).decode('utf-8')


def generate_data_url(base64_image, image_name):
    if image_name.lower().endswith('.png'):
        mime_type = 'image/png'
    else:
        mime_type = 'image/jpeg'
    
    return f"data:{mime_type};base64,{base64_image}"

def gpt4_vision_call(prompt, image_name, base64_image, model):
    data_url = generate_data_url(base64_image, image_name)
    
    response = client.chat.completions.create(
        model=model,
        messages=[
            {"role": "system",
             "content": """In this task, you will look at an image depicting an array of dots. Your job is to guess how many dots are in the image. 
             Please respond with a single integer number."""},

            {
                "role": "user",
                "content": [
                    {"type": "text", "text": prompt},
                    {
                        "type": "image_url",
                        "image_url": {
                            "url": data_url,
                        },
                    },
                ],
            }
        ],
        max_tokens = 3,
        temperature = 0
    )
    return response.choices[0].message.content


MODELS = ['gpt-4-turbo-2024-04-09', 'gpt-4o']


responses = []

for m in MODELS:
    for num_dots, img_name in tqdm(paths.items()):
    
        ### encode image
        img = encode_image(img_name)
    
        response = gpt4_vision_call("How many dots are in this picture? Please respond with a single number.", 
                                    img_name,
                                    img,
                                   model = m)
    
        responses.append({
            'num_dots': int(num_dots),
            'img_name': img_name,
            'response': response,
            'model': m
        })


df_responses = pd.DataFrame(responses)
df_responses.head(3)


df_responses['response_numeric'] = df_responses['response'].apply(lambda x: int(x))


df_responses['error'] = df_responses['response_numeric'] - df_responses['num_dots']
df_responses['abs_error'] = df_responses['error'].apply(lambda x: abs(x))


sns.scatterplot(data = df_responses, x = "num_dots", y = "response_numeric")
plt.xlabel("Number of dots")
plt.ylabel("Guess")


sns.scatterplot(data = df_responses, x = "num_dots", y = "error")
plt.xlabel("Number of dots")
plt.ylabel("Error")











def gpt4_discrimination(prompt, img1_name, img1, img2_name, img2):
    
    data_url_img1 = generate_data_url(img1, img1_name)
    data_url_img2 = generate_data_url(img2, img2_name)
    
    response = client.chat.completions.create(
        model="gpt-4o",
        messages=[
            {"role": "system",
             "content": """In this task, you will look at two different images, each depicting an array of dots.
             Your task is to determine whether the images have the same ('Same') or different ('Different') number of dots. If you don't know, respond with 'Unsure'.
             Please respond with a single word: 'Same', 'Different', or 'Unsure'"""},

            {
                "role": "user",
                "content": [
                    {"type": "text", "text": prompt},
                    {
                        "type": "image_url",
                        "image_url": {
                            "url": data_url_img1,
                        },
                    },
                    {
                        "type": "image_url",
                        "image_url": {
                            "url": data_url_img2,
                        },
                    },
                ],
            }
        ],
        max_tokens = 3,
        temperature = 0
    )
    return response.choices[0].message.content


import itertools
import random


### Create stimuli

target_pairs = []
for i in range(0, 200, 10):

    target_item = '{i}_dots'.format(i = i)

    ### Same
    target_pairs.append((target_item, target_item))

    ### Targeted
    if i > 5 and i < 200:
        target_pairs.append((target_item, '{i}_dots'.format(i = i + 2)))
        target_pairs.append((target_item, '{i}_dots'.format(i = i - 2)))
        target_pairs.append((target_item, '{i}_dots'.format(i = i + 4)))
        target_pairs.append((target_item, '{i}_dots'.format(i = i - 4)))

    ### Random
    random_items = random.sample(list(encoded_stimuli.keys()), 1)
    for r in random_items:
        target_pairs.append((target_item, r))
        


len(target_pairs)


responses =[]

for img1_name, img2_name in tqdm(target_pairs):

    img1, img2 = encoded_stimuli[img1_name], encoded_stimuli[img2_name]

    response = gpt4_discrimination("Do these images have the same or different number of dots? Please respond with: 'Same', 'Different', or 'Unsure'.", 
                                   img1_name, img1,
                                   img2_name, img2)


    img1_num_dots = int(img1_name.split("_")[0])
    img2_num_dots = int(img2_name.split("_")[0])

    ## Correct response
    correct_response = "Different" if img2_num_dots != img1_num_dots else "Same"

    responses.append({
        'img1_name': img1_name,
        'img2_name': img2_name,
        'img1_num_dots': img1_num_dots,
        'img2_num_dots': img2_num_dots,
        'dot_diff': img2_num_dots - img1_num_dots,
        'abs_dot_diff': abs(img2_num_dots - img1_num_dots),
        'correct_response': correct_response,
        'response': response
        
    })


df_responses = pd.DataFrame(responses)


df_responses['Accuracy'] = df_responses['correct_response'] == df_responses['response']


df_responses['Accuracy'].mean()


sns.barplot(data = df_responses, x = "Accuracy", y = "abs_dot_diff")


sns.scatterplot(data = df_responses, x = "img1_num_dots", 
            y = "img2_num_dots", hue = "response", alpha = .6)


sns.lineplot(data = df_responses, x = "img1_num_dots", 
            y = "Accuracy", hue = "correct_response")



